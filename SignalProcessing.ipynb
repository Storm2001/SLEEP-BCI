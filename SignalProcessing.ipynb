{
 "cells": [
  {
   "cell_type": "markdown",
   "id": "consistent-biography",
   "metadata": {},
   "source": [
    "This is a rudimentary version of the signal processing algorithm"
   ]
  },
  {
   "cell_type": "code",
   "execution_count": null,
   "id": "sticky-weight",
   "metadata": {},
   "outputs": [],
   "source": [
    "import mne\n",
    "import yasa\n",
    "import numpy as np\n",
    "import seaborn as sns\n",
    "import matplotlib.pyplot as plt\n",
    "sns.set(style='white', font_scale=1.2)\n",
    "from scipy.signal import welch"
   ]
  },
  {
   "cell_type": "markdown",
   "id": "elect-firewall",
   "metadata": {},
   "source": [
    "We will need some way of reading in the data, and splitting it by 30 s epochs."
   ]
  },
  {
   "cell_type": "code",
   "execution_count": null,
   "id": "subsequent-burton",
   "metadata": {},
   "outputs": [],
   "source": [
    "#Read-in raw data\n",
    "raw= mne.io.read_raw_fif(filename, preload=True, verbose=0)\n",
    "#Note: this will not work in real-time- I'm unsure how that will work\n",
    "times= raw.times\n",
    "tmax= times.size\n",
    "epochs=tmax//30\n",
    "for epoch in epochs:\n",
    "    raw.save('epoch'+epoch+'.fif', tmin=30*(epoch-1) ,tmax=30*epoch)\n",
    "#Some variable may be needed to keep track of time\n",
    "#At t=30, the raw data will be split off into its own array and a new array will be created for the next epoch\n",
    "    #This will probably involve the use of an iterator variable\n",
    "    #Maybe use 2D array?\n",
    "#Filter the signal"
   ]
  },
  {
   "cell_type": "code",
   "execution_count": null,
   "id": "stuck-camcorder",
   "metadata": {},
   "outputs": [],
   "source": [
    "#Calculate bandpower or FFT power\n",
    "sf=80; #Set this to whatever the actual sampling frequency is\n",
    "bp=yasa.bandpower(data, sf=sf) #channel names haven't been set- should be fine since we only have one channel\n",
    "alpha=bp.at[CHAN000, Alpha]\n",
    "beta=bp.at[CHAN000, Beta]\n",
    "#need alpha, beta and theta from bandpower/FFT\n",
    "#Slow wave detection\n",
    "slow=yasa.sw(data, sf=sf)\n",
    "slow_num=(slow.summary()).at[CHAN000, Count] #May need to add paramters for this function\n",
    "spindles=yasa.spindles_detect(data, sf=sf)\n",
    "spindles_shape=(spindles.summary()).size()\n",
    "spindles_num=spindles_shape(1) #In theory, spindles_shape will be the dimensions, and this will grab the number of rows"
   ]
  },
  {
   "cell_type": "code",
   "execution_count": null,
   "id": "devoted-diversity",
   "metadata": {},
   "outputs": [],
   "source": [
    "stages=zeros(epochs.size()) #Check code properly later- this will need to set \"stages\" to have the same number of elements as epohcs\n",
    "#Wakefulness detection\n",
    "if (alpha+beta>0.5):\n",
    "    if theta>0.25:\n",
    "        stages[i]='R'\n",
    "    else:\n",
    "        stages[i]='W'\n",
    "else:\n",
    "    if slow_num>slow_threshold: #Will need to set a threshold for # of slow waves in N3\n",
    "        stages[i]='N3'\n",
    "    elif spindles>spin_threshold:\n",
    "        stages[i]='N2'\n",
    "    else:\n",
    "        stages[i]='N1'"
   ]
  }
 ],
 "metadata": {
  "kernelspec": {
   "display_name": "Python 3",
   "language": "python",
   "name": "python3"
  },
  "language_info": {
   "codemirror_mode": {
    "name": "ipython",
    "version": 3
   },
   "file_extension": ".py",
   "mimetype": "text/x-python",
   "name": "python",
   "nbconvert_exporter": "python",
   "pygments_lexer": "ipython3",
   "version": "3.7.6"
  }
 },
 "nbformat": 4,
 "nbformat_minor": 5
}
